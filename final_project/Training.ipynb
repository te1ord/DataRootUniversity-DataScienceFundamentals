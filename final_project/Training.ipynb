{
 "cells": [
  {
   "cell_type": "code",
   "execution_count": 2,
   "metadata": {},
   "outputs": [],
   "source": [
    "import pickle\n",
    "import json\n",
    "import pandas as pd\n",
    "from sklearn.kernel_ridge import KernelRidge\n",
    "\n",
    "from utils.dataloader import DataLoader \n",
    "from settings.constants import DATA_CSV\n",
    "\n",
    "with open('settings/specifications.json') as f:\n",
    "    specifications = json.load(f)\n",
    "    \n",
    "final_columns = specifications['description']['final_columns']\n",
    "y_column = specifications['description']['y']\n",
    "\n",
    "raw_data = pd.read_csv(DATA_CSV)\n",
    "\n",
    "loader = DataLoader()\n",
    "loader.fit(raw_data)\n",
    "loader.load_data()\n",
    "train_processed, _ = loader.split_data()\n",
    "X = train_processed[final_columns]\n",
    "y = train_processed[y_column]\n",
    "\n",
    "model = KernelRidge(alpha=0.6, kernel='polynomial', degree=2, coef0=2.5)\n",
    "model.fit(X, y)\n",
    "with open('models/KRR.pickle', 'wb')as f:\n",
    "    pickle.dump(model, f)"
   ]
  },
  {
   "cell_type": "code",
   "execution_count": null,
   "metadata": {},
   "outputs": [],
   "source": []
  }
 ],
 "metadata": {
  "kernelspec": {
   "display_name": "Python 3",
   "language": "python",
   "name": "python3"
  },
  "language_info": {
   "codemirror_mode": {
    "name": "ipython",
    "version": 3
   },
   "file_extension": ".py",
   "mimetype": "text/x-python",
   "name": "python",
   "nbconvert_exporter": "python",
   "pygments_lexer": "ipython3",
   "version": "3.7.3"
  }
 },
 "nbformat": 4,
 "nbformat_minor": 2
}
