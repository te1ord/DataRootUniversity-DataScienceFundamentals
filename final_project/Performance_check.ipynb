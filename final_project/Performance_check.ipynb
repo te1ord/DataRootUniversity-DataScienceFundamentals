{
 "cells": [
  {
   "cell_type": "code",
   "execution_count": 3,
   "metadata": {},
   "outputs": [
    {
     "name": "stderr",
     "output_type": "stream",
     "text": [
      "/Users/ivanbashtovyi/miniforge3/envs/dataroot_env/lib/python3.12/site-packages/sklearn/base.py:376: InconsistentVersionWarning: Trying to unpickle estimator KernelRidge from version 0.20.3 when using version 1.5.2. This might lead to breaking code or invalid results. Use at your own risk. For more info please refer to:\n",
      "https://scikit-learn.org/stable/model_persistence.html#security-maintainability-limitations\n",
      "  warnings.warn(\n",
      "/Users/ivanbashtovyi/miniforge3/envs/dataroot_env/lib/python3.12/site-packages/sklearn/base.py:486: UserWarning: X has feature names, but KernelRidge was fitted without feature names\n",
      "  warnings.warn(\n"
     ]
    },
    {
     "data": {
      "text/plain": [
       "0.902771985779265"
      ]
     },
     "execution_count": 3,
     "metadata": {},
     "output_type": "execute_result"
    }
   ],
   "source": [
    "import pickle\n",
    "import json\n",
    "import pandas as pd\n",
    "\n",
    "from utils.dataloader import DataLoader \n",
    "from settings.constants import DATA_CSV\n",
    "\n",
    "with open('settings/specifications.json') as f:\n",
    "    specifications = json.load(f)\n",
    "\n",
    "final_columns = specifications['description']['final_columns']\n",
    "y_column = specifications['description']['y']\n",
    "\n",
    "raw_data = pd.read_csv(DATA_CSV)\n",
    "\n",
    "loader = DataLoader()\n",
    "loader.fit(raw_data)\n",
    "loader.load_data()\n",
    "_, val_processed = loader.split_data()\n",
    "\n",
    "X = val_processed[final_columns]\n",
    "y = val_processed[y_column]\n",
    "\n",
    "loaded_model = pickle.load(open('models/KRR.pickle', 'rb'))\n",
    "loaded_model.score(X, y)"
   ]
  },
  {
   "cell_type": "code",
   "execution_count": null,
   "metadata": {},
   "outputs": [],
   "source": []
  }
 ],
 "metadata": {
  "kernelspec": {
   "display_name": "Python 3",
   "language": "python",
   "name": "python3"
  },
  "language_info": {
   "codemirror_mode": {
    "name": "ipython",
    "version": 3
   },
   "file_extension": ".py",
   "mimetype": "text/x-python",
   "name": "python",
   "nbconvert_exporter": "python",
   "pygments_lexer": "ipython3",
   "version": "3.12.4"
  }
 },
 "nbformat": 4,
 "nbformat_minor": 2
}
